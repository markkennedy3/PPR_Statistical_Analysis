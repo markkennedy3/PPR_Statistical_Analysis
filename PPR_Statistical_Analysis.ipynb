{
 "cells": [
  {
   "cell_type": "markdown",
   "metadata": {
    "toc": true
   },
   "source": [
    "<h1>Table of Contents<span class=\"tocSkip\"></span></h1>\n",
    "<div class=\"toc\"><ul class=\"toc-item\"><li><span><a href=\"#Data-Prep\" data-toc-modified-id=\"Data-Prep-1\"><span class=\"toc-item-num\">1&nbsp;&nbsp;</span>Data Prep</a></span><ul class=\"toc-item\"><li><span><a href=\"#Drop-any-columns-that-are-not-required\" data-toc-modified-id=\"Drop-any-columns-that-are-not-required-1.1\"><span class=\"toc-item-num\">1.1&nbsp;&nbsp;</span>Drop any columns that are not required</a></span></li><li><span><a href=\"#Drop-any-rows-which-are-not-market-value-or-vat-inclusive\" data-toc-modified-id=\"Drop-any-rows-which-are-not-market-value-or-vat-inclusive-1.2\"><span class=\"toc-item-num\">1.2&nbsp;&nbsp;</span>Drop any rows which are not market value or vat inclusive</a></span></li><li><span><a href=\"#Simplfy-the-description-of-property-column-(New/Second-hand)\" data-toc-modified-id=\"Simplfy-the-description-of-property-column-(New/Second-hand)-1.3\"><span class=\"toc-item-num\">1.3&nbsp;&nbsp;</span>Simplfy the description of property column (New/Second-hand)</a></span></li><li><span><a href=\"#Organise-the-counties-into-regions\" data-toc-modified-id=\"Organise-the-counties-into-regions-1.4\"><span class=\"toc-item-num\">1.4&nbsp;&nbsp;</span>Organise the counties into regions</a></span></li><li><span><a href=\"#Convert-the-price-column-to-numerical\" data-toc-modified-id=\"Convert-the-price-column-to-numerical-1.5\"><span class=\"toc-item-num\">1.5&nbsp;&nbsp;</span>Convert the price column to numerical</a></span></li><li><span><a href=\"#Final-Dataset\" data-toc-modified-id=\"Final-Dataset-1.6\"><span class=\"toc-item-num\">1.6&nbsp;&nbsp;</span>Final Dataset</a></span></li><li><span><a href=\"#2018-dataset\" data-toc-modified-id=\"2018-dataset-1.7\"><span class=\"toc-item-num\">1.7&nbsp;&nbsp;</span>2018 dataset</a></span></li></ul></li><li><span><a href=\"#Descriptive-Statistics-Graphs\" data-toc-modified-id=\"Descriptive-Statistics-Graphs-2\"><span class=\"toc-item-num\">2&nbsp;&nbsp;</span>Descriptive Statistics Graphs</a></span><ul class=\"toc-item\"><li><span><a href=\"#Box-Plot\" data-toc-modified-id=\"Box-Plot-2.1\"><span class=\"toc-item-num\">2.1&nbsp;&nbsp;</span>Box Plot</a></span></li><li><span><a href=\"#Mean\" data-toc-modified-id=\"Mean-2.2\"><span class=\"toc-item-num\">2.2&nbsp;&nbsp;</span>Mean</a></span><ul class=\"toc-item\"><li><span><a href=\"#Year-on-year-percentage-change\" data-toc-modified-id=\"Year-on-year-percentage-change-2.2.1\"><span class=\"toc-item-num\">2.2.1&nbsp;&nbsp;</span>Year-on-year percentage change</a></span></li></ul></li><li><span><a href=\"#Average-house-prices-vs-transactions\" data-toc-modified-id=\"Average-house-prices-vs-transactions-2.3\"><span class=\"toc-item-num\">2.3&nbsp;&nbsp;</span>Average house prices vs transactions</a></span></li><li><span><a href=\"#Histograms\" data-toc-modified-id=\"Histograms-2.4\"><span class=\"toc-item-num\">2.4&nbsp;&nbsp;</span>Histograms</a></span><ul class=\"toc-item\"><li><span><a href=\"#Std-and-var\" data-toc-modified-id=\"Std-and-var-2.4.1\"><span class=\"toc-item-num\">2.4.1&nbsp;&nbsp;</span>Std and var</a></span></li></ul></li></ul></li></ul></div>"
   ]
  },
  {
   "cell_type": "code",
   "execution_count": 1,
   "metadata": {},
   "outputs": [],
   "source": [
    "import numpy as np\n",
    "import pandas as pd\n",
    "from sklearn import preprocessing\n",
    "import matplotlib.pyplot as plt\n",
    "%matplotlib inline"
   ]
  },
  {
   "cell_type": "code",
   "execution_count": 2,
   "metadata": {},
   "outputs": [],
   "source": [
    "plt.rcParams['text.color'] = 'k'\n",
    "plt.rcParams['axes.labelcolor'] = 'k'\n",
    "plt.rcParams['axes.titlesize'] = 25\n",
    "plt.rcParams['axes.titleweight'] = 'bold'\n",
    "plt.rcParams['axes.labelsize'] = 22\n",
    "plt.rcParams['axes.labelweight'] = 'bold'\n",
    "plt.rcParams['xtick.labelsize'] = 15\n",
    "plt.rcParams['ytick.labelsize'] = 15\n",
    "plt.rcParams['axes.grid'] = True\n",
    "plt.rcParams['lines.markersize'] = 15\n",
    "plt.rcParams['lines.markeredgewidth'] = 1\n",
    "plt.rcParams['lines.linewidth'] = 2\n",
    "plt.rcParams['legend.fontsize'] = 15"
   ]
  },
  {
   "cell_type": "markdown",
   "metadata": {},
   "source": [
    "# Data Prep"
   ]
  },
  {
   "cell_type": "markdown",
   "metadata": {},
   "source": [
    "Load data"
   ]
  },
  {
   "cell_type": "code",
   "execution_count": 3,
   "metadata": {},
   "outputs": [],
   "source": [
    "data = pd.read_csv(\"PPR-ALL.csv\", encoding= 'unicode_escape')"
   ]
  },
  {
   "cell_type": "markdown",
   "metadata": {},
   "source": [
    "Original features"
   ]
  },
  {
   "cell_type": "code",
   "execution_count": 4,
   "metadata": {},
   "outputs": [
    {
     "data": {
      "text/plain": [
       "Index(['Date of Sale (dd/mm/yyyy)', 'Address', 'Postal Code', 'County',\n",
       "       'Price ()', 'Not Full Market Price', 'VAT Exclusive',\n",
       "       'Description of Property', 'Property Size Description'],\n",
       "      dtype='object')"
      ]
     },
     "execution_count": 4,
     "metadata": {},
     "output_type": "execute_result"
    }
   ],
   "source": [
    "data.columns"
   ]
  },
  {
   "cell_type": "markdown",
   "metadata": {},
   "source": [
    "## Drop any columns that are not required"
   ]
  },
  {
   "cell_type": "code",
   "execution_count": 5,
   "metadata": {},
   "outputs": [
    {
     "data": {
      "text/html": [
       "<div>\n",
       "<style scoped>\n",
       "    .dataframe tbody tr th:only-of-type {\n",
       "        vertical-align: middle;\n",
       "    }\n",
       "\n",
       "    .dataframe tbody tr th {\n",
       "        vertical-align: top;\n",
       "    }\n",
       "\n",
       "    .dataframe thead th {\n",
       "        text-align: right;\n",
       "    }\n",
       "</style>\n",
       "<table border=\"1\" class=\"dataframe\">\n",
       "  <thead>\n",
       "    <tr style=\"text-align: right;\">\n",
       "      <th></th>\n",
       "      <th>Date of Sale (dd/mm/yyyy)</th>\n",
       "      <th>County</th>\n",
       "      <th>Price ()</th>\n",
       "      <th>Not Full Market Price</th>\n",
       "      <th>VAT Exclusive</th>\n",
       "      <th>Description of Property</th>\n",
       "    </tr>\n",
       "  </thead>\n",
       "  <tbody>\n",
       "    <tr>\n",
       "      <th>0</th>\n",
       "      <td>01/01/2010</td>\n",
       "      <td>Dublin</td>\n",
       "      <td>343,000.00</td>\n",
       "      <td>No</td>\n",
       "      <td>No</td>\n",
       "      <td>Second-Hand Dwelling house /Apartment</td>\n",
       "    </tr>\n",
       "    <tr>\n",
       "      <th>1</th>\n",
       "      <td>03/01/2010</td>\n",
       "      <td>Laois</td>\n",
       "      <td>185,000.00</td>\n",
       "      <td>No</td>\n",
       "      <td>Yes</td>\n",
       "      <td>New Dwelling house /Apartment</td>\n",
       "    </tr>\n",
       "    <tr>\n",
       "      <th>2</th>\n",
       "      <td>04/01/2010</td>\n",
       "      <td>Dublin</td>\n",
       "      <td>438,500.00</td>\n",
       "      <td>No</td>\n",
       "      <td>No</td>\n",
       "      <td>Second-Hand Dwelling house /Apartment</td>\n",
       "    </tr>\n",
       "    <tr>\n",
       "      <th>3</th>\n",
       "      <td>04/01/2010</td>\n",
       "      <td>Meath</td>\n",
       "      <td>400,000.00</td>\n",
       "      <td>No</td>\n",
       "      <td>No</td>\n",
       "      <td>Second-Hand Dwelling house /Apartment</td>\n",
       "    </tr>\n",
       "    <tr>\n",
       "      <th>4</th>\n",
       "      <td>04/01/2010</td>\n",
       "      <td>Kilkenny</td>\n",
       "      <td>160,000.00</td>\n",
       "      <td>No</td>\n",
       "      <td>No</td>\n",
       "      <td>Second-Hand Dwelling house /Apartment</td>\n",
       "    </tr>\n",
       "    <tr>\n",
       "      <th>...</th>\n",
       "      <td>...</td>\n",
       "      <td>...</td>\n",
       "      <td>...</td>\n",
       "      <td>...</td>\n",
       "      <td>...</td>\n",
       "      <td>...</td>\n",
       "    </tr>\n",
       "    <tr>\n",
       "      <th>496986</th>\n",
       "      <td>01/10/2021</td>\n",
       "      <td>Sligo</td>\n",
       "      <td>300,000.00</td>\n",
       "      <td>No</td>\n",
       "      <td>No</td>\n",
       "      <td>Second-Hand Dwelling house /Apartment</td>\n",
       "    </tr>\n",
       "    <tr>\n",
       "      <th>496987</th>\n",
       "      <td>01/10/2021</td>\n",
       "      <td>Kildare</td>\n",
       "      <td>415,000.00</td>\n",
       "      <td>No</td>\n",
       "      <td>No</td>\n",
       "      <td>Second-Hand Dwelling house /Apartment</td>\n",
       "    </tr>\n",
       "    <tr>\n",
       "      <th>496988</th>\n",
       "      <td>01/10/2021</td>\n",
       "      <td>Mayo</td>\n",
       "      <td>165,000.00</td>\n",
       "      <td>No</td>\n",
       "      <td>No</td>\n",
       "      <td>Second-Hand Dwelling house /Apartment</td>\n",
       "    </tr>\n",
       "    <tr>\n",
       "      <th>496989</th>\n",
       "      <td>01/10/2021</td>\n",
       "      <td>Wicklow</td>\n",
       "      <td>422,000.00</td>\n",
       "      <td>No</td>\n",
       "      <td>No</td>\n",
       "      <td>Second-Hand Dwelling house /Apartment</td>\n",
       "    </tr>\n",
       "    <tr>\n",
       "      <th>496990</th>\n",
       "      <td>01/10/2021</td>\n",
       "      <td>Laois</td>\n",
       "      <td>485,000.00</td>\n",
       "      <td>No</td>\n",
       "      <td>No</td>\n",
       "      <td>Second-Hand Dwelling house /Apartment</td>\n",
       "    </tr>\n",
       "  </tbody>\n",
       "</table>\n",
       "<p>496991 rows × 6 columns</p>\n",
       "</div>"
      ],
      "text/plain": [
       "       Date of Sale (dd/mm/yyyy)    County    Price () Not Full Market Price  \\\n",
       "0                     01/01/2010    Dublin  343,000.00                    No   \n",
       "1                     03/01/2010     Laois  185,000.00                    No   \n",
       "2                     04/01/2010    Dublin  438,500.00                    No   \n",
       "3                     04/01/2010     Meath  400,000.00                    No   \n",
       "4                     04/01/2010  Kilkenny  160,000.00                    No   \n",
       "...                          ...       ...          ...                   ...   \n",
       "496986                01/10/2021     Sligo  300,000.00                    No   \n",
       "496987                01/10/2021   Kildare  415,000.00                    No   \n",
       "496988                01/10/2021      Mayo  165,000.00                    No   \n",
       "496989                01/10/2021   Wicklow  422,000.00                    No   \n",
       "496990                01/10/2021     Laois  485,000.00                    No   \n",
       "\n",
       "       VAT Exclusive                Description of Property  \n",
       "0                 No  Second-Hand Dwelling house /Apartment  \n",
       "1                Yes          New Dwelling house /Apartment  \n",
       "2                 No  Second-Hand Dwelling house /Apartment  \n",
       "3                 No  Second-Hand Dwelling house /Apartment  \n",
       "4                 No  Second-Hand Dwelling house /Apartment  \n",
       "...              ...                                    ...  \n",
       "496986            No  Second-Hand Dwelling house /Apartment  \n",
       "496987            No  Second-Hand Dwelling house /Apartment  \n",
       "496988            No  Second-Hand Dwelling house /Apartment  \n",
       "496989            No  Second-Hand Dwelling house /Apartment  \n",
       "496990            No  Second-Hand Dwelling house /Apartment  \n",
       "\n",
       "[496991 rows x 6 columns]"
      ]
     },
     "execution_count": 5,
     "metadata": {},
     "output_type": "execute_result"
    }
   ],
   "source": [
    "df = data[['Date of Sale (dd/mm/yyyy)','County','Price ()','Not Full Market Price', 'VAT Exclusive','Description of Property']]\n",
    "df"
   ]
  },
  {
   "cell_type": "markdown",
   "metadata": {},
   "source": [
    "## Drop any rows which are not market value or vat inclusive"
   ]
  },
  {
   "cell_type": "code",
   "execution_count": 6,
   "metadata": {},
   "outputs": [
    {
     "data": {
      "text/plain": [
       "Not Full Market Price\n",
       "No     472774\n",
       "Yes     24217\n",
       "Name: Description of Property, dtype: int64"
      ]
     },
     "execution_count": 6,
     "metadata": {},
     "output_type": "execute_result"
    }
   ],
   "source": [
    "df.groupby('Not Full Market Price').count()['Description of Property']"
   ]
  },
  {
   "cell_type": "code",
   "execution_count": 7,
   "metadata": {},
   "outputs": [
    {
     "data": {
      "text/plain": [
       "VAT Exclusive\n",
       "No     417828\n",
       "Yes     79163\n",
       "Name: Description of Property, dtype: int64"
      ]
     },
     "execution_count": 7,
     "metadata": {},
     "output_type": "execute_result"
    }
   ],
   "source": [
    "df.groupby('VAT Exclusive').count()['Description of Property']"
   ]
  },
  {
   "cell_type": "code",
   "execution_count": 8,
   "metadata": {},
   "outputs": [],
   "source": [
    "df = df.rename(columns={'Date of Sale (dd/mm/yyyy)': 'Year','Price ()': 'Price'})\n",
    "df['Year'] = df['Year'].str[6:]\n",
    "df['Price'] = df['Price'].str[1:] \n",
    "df = df[df['Not Full Market Price'] != 'Yes']\n",
    "df = df[df['VAT Exclusive'] != 'Yes']"
   ]
  },
  {
   "cell_type": "code",
   "execution_count": 9,
   "metadata": {},
   "outputs": [
    {
     "data": {
      "text/html": [
       "<div>\n",
       "<style scoped>\n",
       "    .dataframe tbody tr th:only-of-type {\n",
       "        vertical-align: middle;\n",
       "    }\n",
       "\n",
       "    .dataframe tbody tr th {\n",
       "        vertical-align: top;\n",
       "    }\n",
       "\n",
       "    .dataframe thead th {\n",
       "        text-align: right;\n",
       "    }\n",
       "</style>\n",
       "<table border=\"1\" class=\"dataframe\">\n",
       "  <thead>\n",
       "    <tr style=\"text-align: right;\">\n",
       "      <th></th>\n",
       "      <th>Year</th>\n",
       "      <th>County</th>\n",
       "      <th>Price</th>\n",
       "      <th>Not Full Market Price</th>\n",
       "      <th>VAT Exclusive</th>\n",
       "      <th>Description of Property</th>\n",
       "    </tr>\n",
       "  </thead>\n",
       "  <tbody>\n",
       "    <tr>\n",
       "      <th>0</th>\n",
       "      <td>2010</td>\n",
       "      <td>Dublin</td>\n",
       "      <td>343,000.00</td>\n",
       "      <td>No</td>\n",
       "      <td>No</td>\n",
       "      <td>Second-Hand Dwelling house /Apartment</td>\n",
       "    </tr>\n",
       "    <tr>\n",
       "      <th>2</th>\n",
       "      <td>2010</td>\n",
       "      <td>Dublin</td>\n",
       "      <td>438,500.00</td>\n",
       "      <td>No</td>\n",
       "      <td>No</td>\n",
       "      <td>Second-Hand Dwelling house /Apartment</td>\n",
       "    </tr>\n",
       "    <tr>\n",
       "      <th>3</th>\n",
       "      <td>2010</td>\n",
       "      <td>Meath</td>\n",
       "      <td>400,000.00</td>\n",
       "      <td>No</td>\n",
       "      <td>No</td>\n",
       "      <td>Second-Hand Dwelling house /Apartment</td>\n",
       "    </tr>\n",
       "    <tr>\n",
       "      <th>4</th>\n",
       "      <td>2010</td>\n",
       "      <td>Kilkenny</td>\n",
       "      <td>160,000.00</td>\n",
       "      <td>No</td>\n",
       "      <td>No</td>\n",
       "      <td>Second-Hand Dwelling house /Apartment</td>\n",
       "    </tr>\n",
       "    <tr>\n",
       "      <th>5</th>\n",
       "      <td>2010</td>\n",
       "      <td>Dublin</td>\n",
       "      <td>425,000.00</td>\n",
       "      <td>No</td>\n",
       "      <td>No</td>\n",
       "      <td>Second-Hand Dwelling house /Apartment</td>\n",
       "    </tr>\n",
       "  </tbody>\n",
       "</table>\n",
       "</div>"
      ],
      "text/plain": [
       "   Year    County       Price Not Full Market Price VAT Exclusive  \\\n",
       "0  2010    Dublin  343,000.00                    No            No   \n",
       "2  2010    Dublin  438,500.00                    No            No   \n",
       "3  2010     Meath  400,000.00                    No            No   \n",
       "4  2010  Kilkenny  160,000.00                    No            No   \n",
       "5  2010    Dublin  425,000.00                    No            No   \n",
       "\n",
       "                 Description of Property  \n",
       "0  Second-Hand Dwelling house /Apartment  \n",
       "2  Second-Hand Dwelling house /Apartment  \n",
       "3  Second-Hand Dwelling house /Apartment  \n",
       "4  Second-Hand Dwelling house /Apartment  \n",
       "5  Second-Hand Dwelling house /Apartment  "
      ]
     },
     "execution_count": 9,
     "metadata": {},
     "output_type": "execute_result"
    }
   ],
   "source": [
    "df.head()"
   ]
  },
  {
   "cell_type": "markdown",
   "metadata": {},
   "source": [
    "## Simplfy the description of property column (New/Second-hand)"
   ]
  },
  {
   "cell_type": "code",
   "execution_count": 10,
   "metadata": {},
   "outputs": [
    {
     "data": {
      "text/plain": [
       "array(['Second-Hand Dwelling house /Apartment',\n",
       "       'New Dwelling house /Apartment', 'Teach/Árasán Cónaithe Atháimhe'],\n",
       "      dtype=object)"
      ]
     },
     "execution_count": 10,
     "metadata": {},
     "output_type": "execute_result"
    }
   ],
   "source": [
    "df['Description of Property'].unique()"
   ]
  },
  {
   "cell_type": "code",
   "execution_count": 11,
   "metadata": {},
   "outputs": [],
   "source": [
    "df['Description of Property'] = df['Description of Property'].replace('Second-Hand Dwelling house /Apartment', 'Second-Hand')\n",
    "df['Description of Property'] = df['Description of Property'].replace('New Dwelling house /Apartment', 'New')"
   ]
  },
  {
   "cell_type": "code",
   "execution_count": 12,
   "metadata": {},
   "outputs": [],
   "source": [
    "build_types = ['New','Second-Hand']\n",
    "df = df[df['Description of Property'].isin(build_types)]"
   ]
  },
  {
   "cell_type": "code",
   "execution_count": 13,
   "metadata": {},
   "outputs": [
    {
     "data": {
      "text/plain": [
       "array(['Second-Hand', 'New'], dtype=object)"
      ]
     },
     "execution_count": 13,
     "metadata": {},
     "output_type": "execute_result"
    }
   ],
   "source": [
    "df['Description of Property'].unique()"
   ]
  },
  {
   "cell_type": "code",
   "execution_count": 14,
   "metadata": {},
   "outputs": [],
   "source": [
    "df = df[['Year','County','Price','Description of Property']]"
   ]
  },
  {
   "cell_type": "markdown",
   "metadata": {},
   "source": [
    "## Organise the counties into regions"
   ]
  },
  {
   "cell_type": "code",
   "execution_count": 15,
   "metadata": {},
   "outputs": [
    {
     "data": {
      "text/plain": [
       "array(['Dublin', 'Meath', 'Kilkenny', 'Limerick', 'Carlow', 'Cork',\n",
       "       'Clare', 'Sligo', 'Tipperary', 'Wicklow', 'Mayo', 'Longford',\n",
       "       'Galway', 'Kildare', 'Waterford', 'Laois', 'Louth', 'Kerry',\n",
       "       'Donegal', 'Wexford', 'Offaly', 'Westmeath', 'Roscommon',\n",
       "       'Monaghan', 'Cavan', 'Leitrim'], dtype=object)"
      ]
     },
     "execution_count": 15,
     "metadata": {},
     "output_type": "execute_result"
    }
   ],
   "source": [
    "df['County'].unique()"
   ]
  },
  {
   "cell_type": "code",
   "execution_count": 16,
   "metadata": {},
   "outputs": [],
   "source": [
    "leinster = ['Meath','Kilkenny','Carlow','Wicklow','Longford','Kildare','Laois','Louth','Wexford','Offaly', 'Westmeath']\n",
    "munster = ['Limerick','Cork','Clare','Tipperary','Kerry','Waterford']\n",
    "connaught_ulster = ['Sligo','Mayo','Galway','Donegal','Roscommon','Monaghan', 'Cavan', 'Leitrim']"
   ]
  },
  {
   "cell_type": "code",
   "execution_count": 17,
   "metadata": {},
   "outputs": [],
   "source": [
    "df['Region'] = 'N/A'\n",
    "df.loc[df['County'] == 'Dublin', 'Region'] = 'Dublin'\n",
    "df.loc[df['County'].isin(leinster), 'Region'] = 'Leinster'\n",
    "df.loc[df['County'].isin(munster), 'Region'] = 'Munster'\n",
    "df.loc[df['County'].isin(connaught_ulster), 'Region'] = 'Connaught_Ulster'"
   ]
  },
  {
   "cell_type": "code",
   "execution_count": 18,
   "metadata": {},
   "outputs": [
    {
     "data": {
      "text/html": [
       "<div>\n",
       "<style scoped>\n",
       "    .dataframe tbody tr th:only-of-type {\n",
       "        vertical-align: middle;\n",
       "    }\n",
       "\n",
       "    .dataframe tbody tr th {\n",
       "        vertical-align: top;\n",
       "    }\n",
       "\n",
       "    .dataframe thead th {\n",
       "        text-align: right;\n",
       "    }\n",
       "</style>\n",
       "<table border=\"1\" class=\"dataframe\">\n",
       "  <thead>\n",
       "    <tr style=\"text-align: right;\">\n",
       "      <th></th>\n",
       "      <th>Year</th>\n",
       "      <th>County</th>\n",
       "      <th>Price</th>\n",
       "      <th>Description of Property</th>\n",
       "      <th>Region</th>\n",
       "    </tr>\n",
       "  </thead>\n",
       "  <tbody>\n",
       "  </tbody>\n",
       "</table>\n",
       "</div>"
      ],
      "text/plain": [
       "Empty DataFrame\n",
       "Columns: [Year, County, Price, Description of Property, Region]\n",
       "Index: []"
      ]
     },
     "execution_count": 18,
     "metadata": {},
     "output_type": "execute_result"
    }
   ],
   "source": [
    "df[df['Region']==\"N/A\"]"
   ]
  },
  {
   "cell_type": "code",
   "execution_count": 19,
   "metadata": {},
   "outputs": [
    {
     "data": {
      "text/html": [
       "<div>\n",
       "<style scoped>\n",
       "    .dataframe tbody tr th:only-of-type {\n",
       "        vertical-align: middle;\n",
       "    }\n",
       "\n",
       "    .dataframe tbody tr th {\n",
       "        vertical-align: top;\n",
       "    }\n",
       "\n",
       "    .dataframe thead th {\n",
       "        text-align: right;\n",
       "    }\n",
       "</style>\n",
       "<table border=\"1\" class=\"dataframe\">\n",
       "  <thead>\n",
       "    <tr style=\"text-align: right;\">\n",
       "      <th></th>\n",
       "      <th>Year</th>\n",
       "      <th>Region</th>\n",
       "      <th>Price</th>\n",
       "      <th>Description of Property</th>\n",
       "    </tr>\n",
       "  </thead>\n",
       "  <tbody>\n",
       "    <tr>\n",
       "      <th>0</th>\n",
       "      <td>2019</td>\n",
       "      <td>Connaught_Ulster</td>\n",
       "      <td>72,000.00</td>\n",
       "      <td>Second-Hand</td>\n",
       "    </tr>\n",
       "    <tr>\n",
       "      <th>1</th>\n",
       "      <td>2019</td>\n",
       "      <td>Connaught_Ulster</td>\n",
       "      <td>155,000.00</td>\n",
       "      <td>Second-Hand</td>\n",
       "    </tr>\n",
       "    <tr>\n",
       "      <th>2</th>\n",
       "      <td>2016</td>\n",
       "      <td>Connaught_Ulster</td>\n",
       "      <td>109,000.00</td>\n",
       "      <td>Second-Hand</td>\n",
       "    </tr>\n",
       "    <tr>\n",
       "      <th>3</th>\n",
       "      <td>2014</td>\n",
       "      <td>Connaught_Ulster</td>\n",
       "      <td>30,000.00</td>\n",
       "      <td>Second-Hand</td>\n",
       "    </tr>\n",
       "    <tr>\n",
       "      <th>4</th>\n",
       "      <td>2015</td>\n",
       "      <td>Connaught_Ulster</td>\n",
       "      <td>45,000.00</td>\n",
       "      <td>Second-Hand</td>\n",
       "    </tr>\n",
       "  </tbody>\n",
       "</table>\n",
       "</div>"
      ],
      "text/plain": [
       "   Year            Region       Price Description of Property\n",
       "0  2019  Connaught_Ulster   72,000.00             Second-Hand\n",
       "1  2019  Connaught_Ulster  155,000.00             Second-Hand\n",
       "2  2016  Connaught_Ulster  109,000.00             Second-Hand\n",
       "3  2014  Connaught_Ulster   30,000.00             Second-Hand\n",
       "4  2015  Connaught_Ulster   45,000.00             Second-Hand"
      ]
     },
     "execution_count": 19,
     "metadata": {},
     "output_type": "execute_result"
    }
   ],
   "source": [
    "df = df[['Year','Region','Price','Description of Property']]\n",
    "df = df.sort_values('Region')\n",
    "df = df.reset_index(drop=True)\n",
    "df.head()"
   ]
  },
  {
   "cell_type": "markdown",
   "metadata": {},
   "source": [
    "## Convert the price column to numerical"
   ]
  },
  {
   "cell_type": "code",
   "execution_count": 20,
   "metadata": {},
   "outputs": [],
   "source": [
    "df['Price'] = df['Price'].str.replace(',','')\n",
    "df['Price'] = df['Price'].astype(float)"
   ]
  },
  {
   "cell_type": "code",
   "execution_count": 21,
   "metadata": {},
   "outputs": [
    {
     "data": {
      "text/plain": [
       "5030.53"
      ]
     },
     "execution_count": 21,
     "metadata": {},
     "output_type": "execute_result"
    }
   ],
   "source": [
    "df['Price'].min()"
   ]
  },
  {
   "cell_type": "code",
   "execution_count": 22,
   "metadata": {},
   "outputs": [
    {
     "data": {
      "text/plain": [
       "129500000.0"
      ]
     },
     "execution_count": 22,
     "metadata": {},
     "output_type": "execute_result"
    }
   ],
   "source": [
    "df['Price'].max()"
   ]
  },
  {
   "cell_type": "markdown",
   "metadata": {},
   "source": [
    "## Final Dataset"
   ]
  },
  {
   "cell_type": "code",
   "execution_count": 23,
   "metadata": {},
   "outputs": [
    {
     "data": {
      "text/plain": [
       "'2010'"
      ]
     },
     "execution_count": 23,
     "metadata": {},
     "output_type": "execute_result"
    }
   ],
   "source": [
    "df['Year'].min()"
   ]
  },
  {
   "cell_type": "code",
   "execution_count": 24,
   "metadata": {},
   "outputs": [
    {
     "data": {
      "text/plain": [
       "'2021'"
      ]
     },
     "execution_count": 24,
     "metadata": {},
     "output_type": "execute_result"
    }
   ],
   "source": [
    "df['Year'].max()"
   ]
  },
  {
   "cell_type": "code",
   "execution_count": 25,
   "metadata": {},
   "outputs": [
    {
     "data": {
      "text/html": [
       "<div>\n",
       "<style scoped>\n",
       "    .dataframe tbody tr th:only-of-type {\n",
       "        vertical-align: middle;\n",
       "    }\n",
       "\n",
       "    .dataframe tbody tr th {\n",
       "        vertical-align: top;\n",
       "    }\n",
       "\n",
       "    .dataframe thead th {\n",
       "        text-align: right;\n",
       "    }\n",
       "</style>\n",
       "<table border=\"1\" class=\"dataframe\">\n",
       "  <thead>\n",
       "    <tr style=\"text-align: right;\">\n",
       "      <th></th>\n",
       "      <th>Year</th>\n",
       "      <th>Region</th>\n",
       "      <th>Price</th>\n",
       "      <th>Description of Property</th>\n",
       "    </tr>\n",
       "  </thead>\n",
       "  <tbody>\n",
       "    <tr>\n",
       "      <th>0</th>\n",
       "      <td>2019</td>\n",
       "      <td>Connaught_Ulster</td>\n",
       "      <td>72000.0</td>\n",
       "      <td>Second-Hand</td>\n",
       "    </tr>\n",
       "    <tr>\n",
       "      <th>1</th>\n",
       "      <td>2019</td>\n",
       "      <td>Connaught_Ulster</td>\n",
       "      <td>155000.0</td>\n",
       "      <td>Second-Hand</td>\n",
       "    </tr>\n",
       "    <tr>\n",
       "      <th>2</th>\n",
       "      <td>2016</td>\n",
       "      <td>Connaught_Ulster</td>\n",
       "      <td>109000.0</td>\n",
       "      <td>Second-Hand</td>\n",
       "    </tr>\n",
       "    <tr>\n",
       "      <th>3</th>\n",
       "      <td>2014</td>\n",
       "      <td>Connaught_Ulster</td>\n",
       "      <td>30000.0</td>\n",
       "      <td>Second-Hand</td>\n",
       "    </tr>\n",
       "    <tr>\n",
       "      <th>4</th>\n",
       "      <td>2015</td>\n",
       "      <td>Connaught_Ulster</td>\n",
       "      <td>45000.0</td>\n",
       "      <td>Second-Hand</td>\n",
       "    </tr>\n",
       "  </tbody>\n",
       "</table>\n",
       "</div>"
      ],
      "text/plain": [
       "   Year            Region     Price Description of Property\n",
       "0  2019  Connaught_Ulster   72000.0             Second-Hand\n",
       "1  2019  Connaught_Ulster  155000.0             Second-Hand\n",
       "2  2016  Connaught_Ulster  109000.0             Second-Hand\n",
       "3  2014  Connaught_Ulster   30000.0             Second-Hand\n",
       "4  2015  Connaught_Ulster   45000.0             Second-Hand"
      ]
     },
     "execution_count": 25,
     "metadata": {},
     "output_type": "execute_result"
    }
   ],
   "source": [
    "df.head()"
   ]
  },
  {
   "cell_type": "code",
   "execution_count": 26,
   "metadata": {},
   "outputs": [
    {
     "data": {
      "text/plain": [
       "397021"
      ]
     },
     "execution_count": 26,
     "metadata": {},
     "output_type": "execute_result"
    }
   ],
   "source": [
    "len(df)"
   ]
  },
  {
   "cell_type": "markdown",
   "metadata": {},
   "source": [
    "## 2018 dataset"
   ]
  },
  {
   "cell_type": "code",
   "execution_count": 27,
   "metadata": {},
   "outputs": [
    {
     "data": {
      "text/html": [
       "<div>\n",
       "<style scoped>\n",
       "    .dataframe tbody tr th:only-of-type {\n",
       "        vertical-align: middle;\n",
       "    }\n",
       "\n",
       "    .dataframe tbody tr th {\n",
       "        vertical-align: top;\n",
       "    }\n",
       "\n",
       "    .dataframe thead th {\n",
       "        text-align: right;\n",
       "    }\n",
       "</style>\n",
       "<table border=\"1\" class=\"dataframe\">\n",
       "  <thead>\n",
       "    <tr style=\"text-align: right;\">\n",
       "      <th></th>\n",
       "      <th>Year</th>\n",
       "      <th>Region</th>\n",
       "      <th>Price</th>\n",
       "      <th>Description of Property</th>\n",
       "    </tr>\n",
       "  </thead>\n",
       "  <tbody>\n",
       "    <tr>\n",
       "      <th>0</th>\n",
       "      <td>2018</td>\n",
       "      <td>Connaught_Ulster</td>\n",
       "      <td>155000.0</td>\n",
       "      <td>Second-Hand</td>\n",
       "    </tr>\n",
       "    <tr>\n",
       "      <th>1</th>\n",
       "      <td>2018</td>\n",
       "      <td>Connaught_Ulster</td>\n",
       "      <td>145000.0</td>\n",
       "      <td>Second-Hand</td>\n",
       "    </tr>\n",
       "    <tr>\n",
       "      <th>2</th>\n",
       "      <td>2018</td>\n",
       "      <td>Connaught_Ulster</td>\n",
       "      <td>147000.0</td>\n",
       "      <td>Second-Hand</td>\n",
       "    </tr>\n",
       "    <tr>\n",
       "      <th>3</th>\n",
       "      <td>2018</td>\n",
       "      <td>Connaught_Ulster</td>\n",
       "      <td>150000.0</td>\n",
       "      <td>Second-Hand</td>\n",
       "    </tr>\n",
       "    <tr>\n",
       "      <th>4</th>\n",
       "      <td>2018</td>\n",
       "      <td>Connaught_Ulster</td>\n",
       "      <td>97500.0</td>\n",
       "      <td>Second-Hand</td>\n",
       "    </tr>\n",
       "    <tr>\n",
       "      <th>...</th>\n",
       "      <td>...</td>\n",
       "      <td>...</td>\n",
       "      <td>...</td>\n",
       "      <td>...</td>\n",
       "    </tr>\n",
       "    <tr>\n",
       "      <th>43673</th>\n",
       "      <td>2018</td>\n",
       "      <td>Munster</td>\n",
       "      <td>205000.0</td>\n",
       "      <td>Second-Hand</td>\n",
       "    </tr>\n",
       "    <tr>\n",
       "      <th>43674</th>\n",
       "      <td>2018</td>\n",
       "      <td>Munster</td>\n",
       "      <td>206500.0</td>\n",
       "      <td>Second-Hand</td>\n",
       "    </tr>\n",
       "    <tr>\n",
       "      <th>43675</th>\n",
       "      <td>2018</td>\n",
       "      <td>Munster</td>\n",
       "      <td>165000.0</td>\n",
       "      <td>Second-Hand</td>\n",
       "    </tr>\n",
       "    <tr>\n",
       "      <th>43676</th>\n",
       "      <td>2018</td>\n",
       "      <td>Munster</td>\n",
       "      <td>50000.0</td>\n",
       "      <td>Second-Hand</td>\n",
       "    </tr>\n",
       "    <tr>\n",
       "      <th>43677</th>\n",
       "      <td>2018</td>\n",
       "      <td>Munster</td>\n",
       "      <td>250000.0</td>\n",
       "      <td>Second-Hand</td>\n",
       "    </tr>\n",
       "  </tbody>\n",
       "</table>\n",
       "<p>43678 rows × 4 columns</p>\n",
       "</div>"
      ],
      "text/plain": [
       "       Year            Region     Price Description of Property\n",
       "0      2018  Connaught_Ulster  155000.0             Second-Hand\n",
       "1      2018  Connaught_Ulster  145000.0             Second-Hand\n",
       "2      2018  Connaught_Ulster  147000.0             Second-Hand\n",
       "3      2018  Connaught_Ulster  150000.0             Second-Hand\n",
       "4      2018  Connaught_Ulster   97500.0             Second-Hand\n",
       "...     ...               ...       ...                     ...\n",
       "43673  2018           Munster  205000.0             Second-Hand\n",
       "43674  2018           Munster  206500.0             Second-Hand\n",
       "43675  2018           Munster  165000.0             Second-Hand\n",
       "43676  2018           Munster   50000.0             Second-Hand\n",
       "43677  2018           Munster  250000.0             Second-Hand\n",
       "\n",
       "[43678 rows x 4 columns]"
      ]
     },
     "execution_count": 27,
     "metadata": {},
     "output_type": "execute_result"
    }
   ],
   "source": [
    "df2018 = df[df['Year'] == '2018']\n",
    "df2018 = df2018.reset_index(drop=True)\n",
    "df2018"
   ]
  },
  {
   "cell_type": "code",
   "execution_count": 28,
   "metadata": {},
   "outputs": [
    {
     "data": {
      "text/html": [
       "<div>\n",
       "<style scoped>\n",
       "    .dataframe tbody tr th:only-of-type {\n",
       "        vertical-align: middle;\n",
       "    }\n",
       "\n",
       "    .dataframe tbody tr th {\n",
       "        vertical-align: top;\n",
       "    }\n",
       "\n",
       "    .dataframe thead th {\n",
       "        text-align: right;\n",
       "    }\n",
       "</style>\n",
       "<table border=\"1\" class=\"dataframe\">\n",
       "  <thead>\n",
       "    <tr style=\"text-align: right;\">\n",
       "      <th></th>\n",
       "      <th>Price</th>\n",
       "    </tr>\n",
       "    <tr>\n",
       "      <th>Description of Property</th>\n",
       "      <th></th>\n",
       "    </tr>\n",
       "  </thead>\n",
       "  <tbody>\n",
       "    <tr>\n",
       "      <th>New</th>\n",
       "      <td>449726.407783</td>\n",
       "    </tr>\n",
       "    <tr>\n",
       "      <th>Second-Hand</th>\n",
       "      <td>281614.568794</td>\n",
       "    </tr>\n",
       "  </tbody>\n",
       "</table>\n",
       "</div>"
      ],
      "text/plain": [
       "                                 Price\n",
       "Description of Property               \n",
       "New                      449726.407783\n",
       "Second-Hand              281614.568794"
      ]
     },
     "execution_count": 28,
     "metadata": {},
     "output_type": "execute_result"
    }
   ],
   "source": [
    "df2018.groupby('Description of Property').mean()"
   ]
  },
  {
   "cell_type": "code",
   "execution_count": 29,
   "metadata": {},
   "outputs": [],
   "source": [
    "df2018.to_excel('ppr2018.xlsx')"
   ]
  },
  {
   "cell_type": "markdown",
   "metadata": {},
   "source": [
    "# Descriptive Statistics Graphs"
   ]
  },
  {
   "cell_type": "code",
   "execution_count": 30,
   "metadata": {},
   "outputs": [],
   "source": [
    "df2 = df.copy()\n",
    "df2['Region'] = 'National'\n",
    "df3 = df2.append(df)"
   ]
  },
  {
   "cell_type": "code",
   "execution_count": 31,
   "metadata": {},
   "outputs": [
    {
     "data": {
      "text/plain": [
       "array(['National', 'Connaught_Ulster', 'Dublin', 'Leinster', 'Munster'],\n",
       "      dtype=object)"
      ]
     },
     "execution_count": 31,
     "metadata": {},
     "output_type": "execute_result"
    }
   ],
   "source": [
    "df3.Region.unique()"
   ]
  },
  {
   "cell_type": "code",
   "execution_count": 32,
   "metadata": {},
   "outputs": [
    {
     "data": {
      "text/plain": [
       "array(['Connaught_Ulster', 'Dublin', 'Leinster', 'Munster'], dtype=object)"
      ]
     },
     "execution_count": 32,
     "metadata": {},
     "output_type": "execute_result"
    }
   ],
   "source": [
    "df.Region.unique()"
   ]
  },
  {
   "cell_type": "markdown",
   "metadata": {},
   "source": [
    "## Box Plot"
   ]
  },
  {
   "cell_type": "code",
   "execution_count": 33,
   "metadata": {},
   "outputs": [],
   "source": [
    "x1 = df2018.loc[df2018['Region']=='Connaught_Ulster'].Price\n",
    "x2 = df2018.loc[df2018['Region']=='Munster'].Price\n",
    "x3 = df2018.loc[df2018['Region']=='Leinster'].Price\n",
    "x4 = df2018.loc[df2018['Region']=='Dublin'].Price\n",
    "x5 = df2018.loc[df2018['Region']=='National'].Price"
   ]
  },
  {
   "cell_type": "code",
   "execution_count": 34,
   "metadata": {},
   "outputs": [
    {
     "data": {
      "image/png": "[encoded data removed]",
      "text/plain": [
       "<Figure size 1440x720 with 1 Axes>"
      ]
     },
     "metadata": {
      "needs_background": "light"
     },
     "output_type": "display_data"
    }
   ],
   "source": [
    "data = [x1,x2,x3,x4,x5]\n",
    "fig, ax = plt.subplots(figsize=(20,10))\n",
    "ax.set_title('Property Prices/Region 2018')\n",
    "plt.ylabel('Price (€)')\n",
    "ax.boxplot(data, notch=True)\n",
    "plt.ylim((0,1000000))\n",
    "plt.xticks([0, 1, 2, 3, 4, 5],['','Connaught_Ulster','Munster','Leinster','Dublin','National'])\n",
    "plt.rcParams['xtick.labelsize'] = 15\n",
    "plt.show()"
   ]
  },
  {
   "cell_type": "code",
   "execution_count": 35,
   "metadata": {},
   "outputs": [
    {
     "data": {
      "text/plain": [
       "0.75    250000.0\n",
       "Name: Price, dtype: float64"
      ]
     },
     "execution_count": 35,
     "metadata": {},
     "output_type": "execute_result"
    }
   ],
   "source": [
    "x2.quantile([0.75])"
   ]
  },
  {
   "cell_type": "code",
   "execution_count": 36,
   "metadata": {},
   "outputs": [
    {
     "data": {
      "text/plain": [
       "0.25    252500.0\n",
       "Name: Price, dtype: float64"
      ]
     },
     "execution_count": 36,
     "metadata": {},
     "output_type": "execute_result"
    }
   ],
   "source": [
    "x4.quantile([0.25])"
   ]
  },
  {
   "cell_type": "markdown",
   "metadata": {},
   "source": [
    "## Mean"
   ]
  },
  {
   "cell_type": "code",
   "execution_count": 37,
   "metadata": {},
   "outputs": [
    {
     "data": {
      "text/plain": [
       "Region            Year\n",
       "Connaught_Ulster  2010    175278.950213\n",
       "                  2011    152257.240436\n",
       "                  2012    127741.571214\n",
       "                  2013    119838.051796\n",
       "                  2014    115704.435269\n",
       "                  2015    126878.153087\n",
       "                  2016    131416.536743\n",
       "                  2017    152434.236122\n",
       "                  2018    161379.457212\n",
       "                  2019    167499.463655\n",
       "                  2020    167149.539306\n",
       "                  2021    181647.114321\n",
       "Dublin            2010    353024.979849\n",
       "                  2011    326211.412146\n",
       "                  2012    299127.661907\n",
       "                  2013    347211.531734\n",
       "                  2014    376085.547520\n",
       "                  2015    360635.161456\n",
       "                  2016    411502.580889\n",
       "                  2017    443825.537246\n",
       "                  2018    466443.761556\n",
       "                  2019    492985.304092\n",
       "                  2020    490690.626609\n",
       "                  2021    494362.746199\n",
       "Leinster          2010    220595.981678\n",
       "                  2011    184604.680048\n",
       "                  2012    159857.710573\n",
       "                  2013    159577.004077\n",
       "                  2014    164731.910202\n",
       "                  2015    181924.737206\n",
       "                  2016    193581.937129\n",
       "                  2017    214324.194138\n",
       "                  2018    223271.547706\n",
       "                  2019    233035.384651\n",
       "                  2020    239612.682232\n",
       "                  2021    267493.412585\n",
       "Munster           2010    203405.148603\n",
       "                  2011    177681.988618\n",
       "                  2012    157013.080213\n",
       "                  2013    152650.032153\n",
       "                  2014    146706.658127\n",
       "                  2015    157566.537590\n",
       "                  2016    170434.178742\n",
       "                  2017    186599.433700\n",
       "                  2018    212537.764194\n",
       "                  2019    215400.334477\n",
       "                  2020    212518.235237\n",
       "                  2021    231008.876252\n",
       "National          2010    257820.723831\n",
       "                  2011    225802.750362\n",
       "                  2012    204327.657539\n",
       "                  2013    216987.707626\n",
       "                  2014    220797.454951\n",
       "                  2015    220181.221412\n",
       "                  2016    243630.180499\n",
       "                  2017    265838.506329\n",
       "                  2018    282395.893564\n",
       "                  2019    295882.377135\n",
       "                  2020    293093.073497\n",
       "                  2021    309175.269176\n",
       "Name: Price, dtype: float64"
      ]
     },
     "execution_count": 37,
     "metadata": {},
     "output_type": "execute_result"
    }
   ],
   "source": [
    "yearly_mean_df = df3.groupby(['Region', 'Year'])['Price'].mean()\n",
    "yearly_mean_df"
   ]
  },
  {
   "cell_type": "code",
   "execution_count": 38,
   "metadata": {},
   "outputs": [],
   "source": [
    "national_yearly_mean_df = df.groupby(['Year'])['Price'].mean()"
   ]
  },
  {
   "cell_type": "code",
   "execution_count": 39,
   "metadata": {},
   "outputs": [
    {
     "data": {
      "image/png": "[encoded data removed]",
      "text/plain": [
       "<Figure size 1080x504 with 1 Axes>"
      ]
     },
     "metadata": {
      "needs_background": "light"
     },
     "output_type": "display_data"
    }
   ],
   "source": [
    "fig, ax = plt.subplots(figsize=(15,7))\n",
    "yearly_mean_df.unstack().transpose().plot(ax=ax,color=['blue', 'darkorange', 'green', 'red','black'])\n",
    "ax.set_xticks(range(0,12))\n",
    "ax.set_xticklabels(sorted(df.Year.unique()),minor=False)\n",
    "ax.tick_params(axis='x')\n",
    "ax.set_title('Average House Prices')\n",
    "plt.xlabel('')\n",
    "plt.ylabel('Price (€)')\n",
    "plt.show()"
   ]
  },
  {
   "cell_type": "markdown",
   "metadata": {},
   "source": [
    "### Year-on-year percentage change"
   ]
  },
  {
   "cell_type": "code",
   "execution_count": 40,
   "metadata": {},
   "outputs": [
    {
     "data": {
      "text/html": [
       "<div>\n",
       "<style scoped>\n",
       "    .dataframe tbody tr th:only-of-type {\n",
       "        vertical-align: middle;\n",
       "    }\n",
       "\n",
       "    .dataframe tbody tr th {\n",
       "        vertical-align: top;\n",
       "    }\n",
       "\n",
       "    .dataframe thead th {\n",
       "        text-align: right;\n",
       "    }\n",
       "</style>\n",
       "<table border=\"1\" class=\"dataframe\">\n",
       "  <thead>\n",
       "    <tr style=\"text-align: right;\">\n",
       "      <th>Region</th>\n",
       "      <th>Connaught_Ulster</th>\n",
       "      <th>Dublin</th>\n",
       "      <th>Leinster</th>\n",
       "      <th>Munster</th>\n",
       "      <th>National</th>\n",
       "    </tr>\n",
       "    <tr>\n",
       "      <th>Year</th>\n",
       "      <th></th>\n",
       "      <th></th>\n",
       "      <th></th>\n",
       "      <th></th>\n",
       "      <th></th>\n",
       "    </tr>\n",
       "  </thead>\n",
       "  <tbody>\n",
       "    <tr>\n",
       "      <th>2010</th>\n",
       "      <td>175278.950213</td>\n",
       "      <td>353024.979849</td>\n",
       "      <td>220595.981678</td>\n",
       "      <td>203405.148603</td>\n",
       "      <td>257820.723831</td>\n",
       "    </tr>\n",
       "    <tr>\n",
       "      <th>2011</th>\n",
       "      <td>152257.240436</td>\n",
       "      <td>326211.412146</td>\n",
       "      <td>184604.680048</td>\n",
       "      <td>177681.988618</td>\n",
       "      <td>225802.750362</td>\n",
       "    </tr>\n",
       "    <tr>\n",
       "      <th>2012</th>\n",
       "      <td>127741.571214</td>\n",
       "      <td>299127.661907</td>\n",
       "      <td>159857.710573</td>\n",
       "      <td>157013.080213</td>\n",
       "      <td>204327.657539</td>\n",
       "    </tr>\n",
       "    <tr>\n",
       "      <th>2013</th>\n",
       "      <td>119838.051796</td>\n",
       "      <td>347211.531734</td>\n",
       "      <td>159577.004077</td>\n",
       "      <td>152650.032153</td>\n",
       "      <td>216987.707626</td>\n",
       "    </tr>\n",
       "    <tr>\n",
       "      <th>2014</th>\n",
       "      <td>115704.435269</td>\n",
       "      <td>376085.547520</td>\n",
       "      <td>164731.910202</td>\n",
       "      <td>146706.658127</td>\n",
       "      <td>220797.454951</td>\n",
       "    </tr>\n",
       "    <tr>\n",
       "      <th>2015</th>\n",
       "      <td>126878.153087</td>\n",
       "      <td>360635.161456</td>\n",
       "      <td>181924.737206</td>\n",
       "      <td>157566.537590</td>\n",
       "      <td>220181.221412</td>\n",
       "    </tr>\n",
       "    <tr>\n",
       "      <th>2016</th>\n",
       "      <td>131416.536743</td>\n",
       "      <td>411502.580889</td>\n",
       "      <td>193581.937129</td>\n",
       "      <td>170434.178742</td>\n",
       "      <td>243630.180499</td>\n",
       "    </tr>\n",
       "    <tr>\n",
       "      <th>2017</th>\n",
       "      <td>152434.236122</td>\n",
       "      <td>443825.537246</td>\n",
       "      <td>214324.194138</td>\n",
       "      <td>186599.433700</td>\n",
       "      <td>265838.506329</td>\n",
       "    </tr>\n",
       "    <tr>\n",
       "      <th>2018</th>\n",
       "      <td>161379.457212</td>\n",
       "      <td>466443.761556</td>\n",
       "      <td>223271.547706</td>\n",
       "      <td>212537.764194</td>\n",
       "      <td>282395.893564</td>\n",
       "    </tr>\n",
       "    <tr>\n",
       "      <th>2019</th>\n",
       "      <td>167499.463655</td>\n",
       "      <td>492985.304092</td>\n",
       "      <td>233035.384651</td>\n",
       "      <td>215400.334477</td>\n",
       "      <td>295882.377135</td>\n",
       "    </tr>\n",
       "    <tr>\n",
       "      <th>2020</th>\n",
       "      <td>167149.539306</td>\n",
       "      <td>490690.626609</td>\n",
       "      <td>239612.682232</td>\n",
       "      <td>212518.235237</td>\n",
       "      <td>293093.073497</td>\n",
       "    </tr>\n",
       "    <tr>\n",
       "      <th>2021</th>\n",
       "      <td>181647.114321</td>\n",
       "      <td>494362.746199</td>\n",
       "      <td>267493.412585</td>\n",
       "      <td>231008.876252</td>\n",
       "      <td>309175.269176</td>\n",
       "    </tr>\n",
       "  </tbody>\n",
       "</table>\n",
       "</div>"
      ],
      "text/plain": [
       "Region  Connaught_Ulster         Dublin       Leinster        Munster  \\\n",
       "Year                                                                    \n",
       "2010       175278.950213  353024.979849  220595.981678  203405.148603   \n",
       "2011       152257.240436  326211.412146  184604.680048  177681.988618   \n",
       "2012       127741.571214  299127.661907  159857.710573  157013.080213   \n",
       "2013       119838.051796  347211.531734  159577.004077  152650.032153   \n",
       "2014       115704.435269  376085.547520  164731.910202  146706.658127   \n",
       "2015       126878.153087  360635.161456  181924.737206  157566.537590   \n",
       "2016       131416.536743  411502.580889  193581.937129  170434.178742   \n",
       "2017       152434.236122  443825.537246  214324.194138  186599.433700   \n",
       "2018       161379.457212  466443.761556  223271.547706  212537.764194   \n",
       "2019       167499.463655  492985.304092  233035.384651  215400.334477   \n",
       "2020       167149.539306  490690.626609  239612.682232  212518.235237   \n",
       "2021       181647.114321  494362.746199  267493.412585  231008.876252   \n",
       "\n",
       "Region       National  \n",
       "Year                   \n",
       "2010    257820.723831  \n",
       "2011    225802.750362  \n",
       "2012    204327.657539  \n",
       "2013    216987.707626  \n",
       "2014    220797.454951  \n",
       "2015    220181.221412  \n",
       "2016    243630.180499  \n",
       "2017    265838.506329  \n",
       "2018    282395.893564  \n",
       "2019    295882.377135  \n",
       "2020    293093.073497  \n",
       "2021    309175.269176  "
      ]
     },
     "execution_count": 40,
     "metadata": {},
     "output_type": "execute_result"
    }
   ],
   "source": [
    "yearly_mean_df.unstack().transpose()"
   ]
  },
  {
   "cell_type": "code",
   "execution_count": 41,
   "metadata": {},
   "outputs": [
    {
     "data": {
      "text/html": [
       "<div>\n",
       "<style scoped>\n",
       "    .dataframe tbody tr th:only-of-type {\n",
       "        vertical-align: middle;\n",
       "    }\n",
       "\n",
       "    .dataframe tbody tr th {\n",
       "        vertical-align: top;\n",
       "    }\n",
       "\n",
       "    .dataframe thead th {\n",
       "        text-align: right;\n",
       "    }\n",
       "</style>\n",
       "<table border=\"1\" class=\"dataframe\">\n",
       "  <thead>\n",
       "    <tr style=\"text-align: right;\">\n",
       "      <th>Region</th>\n",
       "      <th>Connaught_Ulster</th>\n",
       "      <th>Dublin</th>\n",
       "      <th>Leinster</th>\n",
       "      <th>Munster</th>\n",
       "      <th>National</th>\n",
       "    </tr>\n",
       "    <tr>\n",
       "      <th>Year</th>\n",
       "      <th></th>\n",
       "      <th></th>\n",
       "      <th></th>\n",
       "      <th></th>\n",
       "      <th></th>\n",
       "    </tr>\n",
       "  </thead>\n",
       "  <tbody>\n",
       "    <tr>\n",
       "      <th>2010</th>\n",
       "      <td>NaN</td>\n",
       "      <td>NaN</td>\n",
       "      <td>NaN</td>\n",
       "      <td>NaN</td>\n",
       "      <td>NaN</td>\n",
       "    </tr>\n",
       "    <tr>\n",
       "      <th>2011</th>\n",
       "      <td>-0.131343</td>\n",
       "      <td>-0.075954</td>\n",
       "      <td>-0.163155</td>\n",
       "      <td>-0.126463</td>\n",
       "      <td>-0.124187</td>\n",
       "    </tr>\n",
       "    <tr>\n",
       "      <th>2012</th>\n",
       "      <td>-0.161015</td>\n",
       "      <td>-0.083025</td>\n",
       "      <td>-0.134054</td>\n",
       "      <td>-0.116325</td>\n",
       "      <td>-0.095106</td>\n",
       "    </tr>\n",
       "    <tr>\n",
       "      <th>2013</th>\n",
       "      <td>-0.061871</td>\n",
       "      <td>0.160747</td>\n",
       "      <td>-0.001756</td>\n",
       "      <td>-0.027788</td>\n",
       "      <td>0.061960</td>\n",
       "    </tr>\n",
       "    <tr>\n",
       "      <th>2014</th>\n",
       "      <td>-0.034493</td>\n",
       "      <td>0.083160</td>\n",
       "      <td>0.032304</td>\n",
       "      <td>-0.038935</td>\n",
       "      <td>0.017557</td>\n",
       "    </tr>\n",
       "    <tr>\n",
       "      <th>2015</th>\n",
       "      <td>0.096571</td>\n",
       "      <td>-0.041082</td>\n",
       "      <td>0.104369</td>\n",
       "      <td>0.074024</td>\n",
       "      <td>-0.002791</td>\n",
       "    </tr>\n",
       "    <tr>\n",
       "      <th>2016</th>\n",
       "      <td>0.035770</td>\n",
       "      <td>0.141050</td>\n",
       "      <td>0.064077</td>\n",
       "      <td>0.081665</td>\n",
       "      <td>0.106498</td>\n",
       "    </tr>\n",
       "    <tr>\n",
       "      <th>2017</th>\n",
       "      <td>0.159932</td>\n",
       "      <td>0.078549</td>\n",
       "      <td>0.107150</td>\n",
       "      <td>0.094847</td>\n",
       "      <td>0.091156</td>\n",
       "    </tr>\n",
       "    <tr>\n",
       "      <th>2018</th>\n",
       "      <td>0.058682</td>\n",
       "      <td>0.050962</td>\n",
       "      <td>0.041747</td>\n",
       "      <td>0.139005</td>\n",
       "      <td>0.062284</td>\n",
       "    </tr>\n",
       "    <tr>\n",
       "      <th>2019</th>\n",
       "      <td>0.037923</td>\n",
       "      <td>0.056902</td>\n",
       "      <td>0.043731</td>\n",
       "      <td>0.013469</td>\n",
       "      <td>0.047757</td>\n",
       "    </tr>\n",
       "    <tr>\n",
       "      <th>2020</th>\n",
       "      <td>-0.002089</td>\n",
       "      <td>-0.004655</td>\n",
       "      <td>0.028224</td>\n",
       "      <td>-0.013380</td>\n",
       "      <td>-0.009427</td>\n",
       "    </tr>\n",
       "    <tr>\n",
       "      <th>2021</th>\n",
       "      <td>0.086734</td>\n",
       "      <td>0.007484</td>\n",
       "      <td>0.116357</td>\n",
       "      <td>0.087007</td>\n",
       "      <td>0.054871</td>\n",
       "    </tr>\n",
       "  </tbody>\n",
       "</table>\n",
       "</div>"
      ],
      "text/plain": [
       "Region  Connaught_Ulster    Dublin  Leinster   Munster  National\n",
       "Year                                                            \n",
       "2010                 NaN       NaN       NaN       NaN       NaN\n",
       "2011           -0.131343 -0.075954 -0.163155 -0.126463 -0.124187\n",
       "2012           -0.161015 -0.083025 -0.134054 -0.116325 -0.095106\n",
       "2013           -0.061871  0.160747 -0.001756 -0.027788  0.061960\n",
       "2014           -0.034493  0.083160  0.032304 -0.038935  0.017557\n",
       "2015            0.096571 -0.041082  0.104369  0.074024 -0.002791\n",
       "2016            0.035770  0.141050  0.064077  0.081665  0.106498\n",
       "2017            0.159932  0.078549  0.107150  0.094847  0.091156\n",
       "2018            0.058682  0.050962  0.041747  0.139005  0.062284\n",
       "2019            0.037923  0.056902  0.043731  0.013469  0.047757\n",
       "2020           -0.002089 -0.004655  0.028224 -0.013380 -0.009427\n",
       "2021            0.086734  0.007484  0.116357  0.087007  0.054871"
      ]
     },
     "execution_count": 41,
     "metadata": {},
     "output_type": "execute_result"
    }
   ],
   "source": [
    "yearly_mean_df.unstack().transpose().pct_change()"
   ]
  },
  {
   "cell_type": "code",
   "execution_count": 42,
   "metadata": {},
   "outputs": [
    {
     "data": {
      "text/plain": [
       "Region\n",
       "Connaught_Ulster    0.007709\n",
       "Dublin              0.034012\n",
       "Leinster            0.021727\n",
       "Munster             0.015193\n",
       "National            0.019143\n",
       "dtype: float64"
      ]
     },
     "execution_count": 42,
     "metadata": {},
     "output_type": "execute_result"
    }
   ],
   "source": [
    "pct_change_df = yearly_mean_df.unstack().transpose().pct_change()\n",
    "pct_change_df.mean()"
   ]
  },
  {
   "cell_type": "markdown",
   "metadata": {},
   "source": [
    "## Average house prices vs transactions"
   ]
  },
  {
   "cell_type": "code",
   "execution_count": 43,
   "metadata": {},
   "outputs": [
    {
     "data": {
      "text/plain": [
       "Year\n",
       "2010    257820.723831\n",
       "2011    225802.750362\n",
       "2012    204327.657539\n",
       "2013    216987.707626\n",
       "2014    220797.454951\n",
       "2015    220181.221412\n",
       "2016    243630.180499\n",
       "2017    265838.506329\n",
       "2018    282395.893564\n",
       "2019    295882.377135\n",
       "2020    293093.073497\n",
       "2021    309175.269176\n",
       "Name: Price, dtype: float64"
      ]
     },
     "execution_count": 43,
     "metadata": {},
     "output_type": "execute_result"
    }
   ],
   "source": [
    "df.groupby('Year').Price.mean()"
   ]
  },
  {
   "cell_type": "code",
   "execution_count": 44,
   "metadata": {},
   "outputs": [
    {
     "data": {
      "image/png": "[encoded data removed]",
      "text/plain": [
       "<Figure size 720x504 with 2 Axes>"
      ]
     },
     "metadata": {
      "needs_background": "light"
     },
     "output_type": "display_data"
    }
   ],
   "source": [
    "fig = plt.figure(figsize=(10,7))\n",
    "ax = fig.add_axes([0,0,1,1])\n",
    "years = sorted(df3.Year.unique())\n",
    "ax.bar(years,df.groupby('Year').Price.mean())\n",
    "ax.set_ylim((0, 350000))\n",
    "ax.set_yticks(np.arange(0,400000,50000))\n",
    "ax.legend(['Price (left scale)'],loc=2)\n",
    "plt.ylabel('Price (€)')\n",
    "ax2 = ax.twinx()\n",
    "ax2.set_ylim((0, 70000))\n",
    "ax2.set_yticks(np.arange(0, 80000,10000))\n",
    "ax2.plot(years,df.groupby('Year').Price.count(),color='red')\n",
    "plt.title('Average House Prices vs Transactions')\n",
    "ax2.legend(['Count (right scale)'],loc=0)\n",
    "plt.ylabel('Count')\n",
    "plt.show()"
   ]
  },
  {
   "cell_type": "code",
   "execution_count": 45,
   "metadata": {},
   "outputs": [
    {
     "data": {
      "text/plain": [
       "0.019142946311638032"
      ]
     },
     "execution_count": 45,
     "metadata": {},
     "output_type": "execute_result"
    }
   ],
   "source": [
    "df.groupby('Year').Price.mean().pct_change().mean()"
   ]
  },
  {
   "cell_type": "code",
   "execution_count": 46,
   "metadata": {},
   "outputs": [
    {
     "data": {
      "text/plain": [
       "0.08977440584594165"
      ]
     },
     "execution_count": 46,
     "metadata": {},
     "output_type": "execute_result"
    }
   ],
   "source": [
    "df.groupby('Year').Price.count().pct_change().mean()"
   ]
  },
  {
   "cell_type": "markdown",
   "metadata": {},
   "source": [
    "## Histograms"
   ]
  },
  {
   "cell_type": "code",
   "execution_count": 47,
   "metadata": {},
   "outputs": [
    {
     "data": {
      "image/png": "[encoded data removed]",
      "text/plain": [
       "<Figure size 1080x720 with 1 Axes>"
      ]
     },
     "metadata": {
      "needs_background": "light"
     },
     "output_type": "display_data"
    }
   ],
   "source": [
    "x1 = df2018.loc[df2018['Region']=='Connaught_Ulster'].Price\n",
    "##x2 = df2020.loc[df2020['Region']=='Munster'].Price\n",
    "##x3 = df2020.loc[df2020['Region']=='Leinster'].Price\n",
    "x4 = df2018.loc[df2018['Region']=='Dublin'].Price\n",
    "labels=['Connaught_Ulster','Dublin']\n",
    "plt.figure(figsize=(15,10))\n",
    "plt.hist([x1,x4], range=[0, 1000000], bins = 50, density=True)\n",
    "plt.title('Distribution of House Prices 2018')\n",
    "plt.xlabel('Sale Price')\n",
    "plt.ylabel('% of Houses')\n",
    "plt.legend(labels)\n",
    "##plt.xlim([0, 1000000])\n",
    "plt.show()"
   ]
  },
  {
   "cell_type": "code",
   "execution_count": 48,
   "metadata": {},
   "outputs": [
    {
     "data": {
      "text/plain": [
       "161379.45721242865"
      ]
     },
     "execution_count": 48,
     "metadata": {},
     "output_type": "execute_result"
    }
   ],
   "source": [
    "x1.mean()"
   ]
  },
  {
   "cell_type": "code",
   "execution_count": 49,
   "metadata": {},
   "outputs": [
    {
     "data": {
      "text/plain": [
       "466443.7615560803"
      ]
     },
     "execution_count": 49,
     "metadata": {},
     "output_type": "execute_result"
    }
   ],
   "source": [
    "x4.mean()"
   ]
  },
  {
   "cell_type": "markdown",
   "metadata": {},
   "source": [
    "### Std and var"
   ]
  },
  {
   "cell_type": "code",
   "execution_count": 50,
   "metadata": {},
   "outputs": [
    {
     "data": {
      "text/plain": [
       "171187511713.76685"
      ]
     },
     "execution_count": 50,
     "metadata": {},
     "output_type": "execute_result"
    }
   ],
   "source": [
    "x1.var()"
   ]
  },
  {
   "cell_type": "code",
   "execution_count": 51,
   "metadata": {},
   "outputs": [
    {
     "data": {
      "text/plain": [
       "961702184677.7324"
      ]
     },
     "execution_count": 51,
     "metadata": {},
     "output_type": "execute_result"
    }
   ],
   "source": [
    "x4.var()"
   ]
  },
  {
   "cell_type": "code",
   "execution_count": 52,
   "metadata": {},
   "outputs": [
    {
     "data": {
      "text/plain": [
       "False"
      ]
     },
     "execution_count": 52,
     "metadata": {},
     "output_type": "execute_result"
    }
   ],
   "source": [
    "x1.var() > x4.var()"
   ]
  },
  {
   "cell_type": "code",
   "execution_count": 53,
   "metadata": {},
   "outputs": [
    {
     "data": {
      "text/plain": [
       "413748.12593384256"
      ]
     },
     "execution_count": 53,
     "metadata": {},
     "output_type": "execute_result"
    }
   ],
   "source": [
    "x1.std()"
   ]
  },
  {
   "cell_type": "code",
   "execution_count": 54,
   "metadata": {},
   "outputs": [
    {
     "data": {
      "text/plain": [
       "980664.1548857245"
      ]
     },
     "execution_count": 54,
     "metadata": {},
     "output_type": "execute_result"
    }
   ],
   "source": [
    "x4.std()"
   ]
  }
 ],
 "metadata": {
  "kernelspec": {
   "display_name": "Python 3",
   "language": "python",
   "name": "python3"
  },
  "language_info": {
   "codemirror_mode": {
    "name": "ipython",
    "version": 3
   },
   "file_extension": ".py",
   "mimetype": "text/x-python",
   "name": "python",
   "nbconvert_exporter": "python",
   "pygments_lexer": "ipython3",
   "version": "3.7.6"
  },
  "toc": {
   "base_numbering": 1,
   "nav_menu": {},
   "number_sections": true,
   "sideBar": true,
   "skip_h1_title": false,
   "title_cell": "Table of Contents",
   "title_sidebar": "Contents",
   "toc_cell": true,
   "toc_position": {},
   "toc_section_display": true,
   "toc_window_display": false
  }
 },
 "nbformat": 4,
 "nbformat_minor": 4
}
